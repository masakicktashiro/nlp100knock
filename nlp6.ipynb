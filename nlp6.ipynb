{
 "cells": [
  {
   "cell_type": "code",
   "execution_count": 209,
   "metadata": {
    "collapsed": true
   },
   "outputs": [],
   "source": [
    "import leveldb\n",
    "import gzip\n",
    "import re\n",
    "import codecs\n",
    "import json\n",
    "from tqdm import tqdm\n",
    "from pymongo import MongoClient\n",
    "import pymongo\n",
    "from flask import Flask, render_template, request"
   ]
  },
  {
   "cell_type": "code",
   "execution_count": 133,
   "metadata": {},
   "outputs": [
    {
     "ename": "LevelDBError",
     "evalue": "IO error: lock ./music.ldb/LOCK: already held by process",
     "output_type": "error",
     "traceback": [
      "\u001b[0;31m---------------------------------------------------------------------------\u001b[0m",
      "\u001b[0;31mLevelDBError\u001b[0m                              Traceback (most recent call last)",
      "\u001b[0;32m<ipython-input-133-067c2fd1aca5>\u001b[0m in \u001b[0;36m<module>\u001b[0;34m()\u001b[0m\n\u001b[0;32m----> 1\u001b[0;31m \u001b[0mleveldb\u001b[0m\u001b[0;34m.\u001b[0m\u001b[0mLevelDB\u001b[0m\u001b[0;34m(\u001b[0m\u001b[0;34m\"./music.ldb\"\u001b[0m\u001b[0;34m)\u001b[0m\u001b[0;34m\u001b[0m\u001b[0m\n\u001b[0m",
      "\u001b[0;31mLevelDBError\u001b[0m: IO error: lock ./music.ldb/LOCK: already held by process"
     ]
    }
   ],
   "source": [
    "leveldb.LevelDB(\"./music.ldb\")"
   ]
  },
  {
   "cell_type": "code",
   "execution_count": 135,
   "metadata": {
    "scrolled": true
   },
   "outputs": [
    {
     "name": "stderr",
     "output_type": "stream",
     "text": [
      "\n",
      "0it [00:00, ?it/s]\u001b[A\n",
      "3300it [00:00, 32562.33it/s]\u001b[A\n",
      "6995it [00:00, 34788.21it/s]\u001b[A\n",
      "10952it [00:00, 36315.78it/s]\u001b[A\n",
      "14037it [00:00, 34955.13it/s]\u001b[A\n",
      "17465it [00:00, 34792.63it/s]\u001b[A\n",
      "20948it [00:00, 34832.41it/s]\u001b[A\n",
      "24632it [00:00, 35081.96it/s]\u001b[A\n",
      "27878it [00:00, 34154.84it/s]\u001b[A\n",
      "31470it [00:00, 34339.85it/s]\u001b[A\n",
      "35066it [00:01, 34476.00it/s]\u001b[A\n",
      "38427it [00:01, 34122.90it/s]\u001b[A\n",
      "41902it [00:01, 34171.01it/s]\u001b[A\n",
      "45700it [00:01, 34455.65it/s]\u001b[A\n",
      "49395it [00:01, 34628.80it/s]\u001b[A\n",
      "53038it [00:01, 34752.38it/s]\u001b[A\n",
      "56622it [00:01, 34805.03it/s]\u001b[A\n",
      "60197it [00:01, 34774.69it/s]\u001b[A\n",
      "63732it [00:01, 34720.04it/s]\u001b[A\n",
      "67210it [00:01, 34643.42it/s]\u001b[A\n",
      "70773it [00:02, 34698.09it/s]\u001b[A\n",
      "74450it [00:02, 34786.57it/s]\u001b[A\n",
      "78102it [00:02, 34865.05it/s]\u001b[A\n",
      "81672it [00:02, 34811.22it/s]\u001b[A\n",
      "85177it [00:02, 34780.79it/s]\u001b[A\n",
      "88762it [00:02, 34816.83it/s]\u001b[A\n",
      "92271it [00:02, 34810.44it/s]\u001b[A\n",
      "95867it [00:02, 34847.39it/s]\u001b[A\n",
      "99668it [00:02, 34956.61it/s]\u001b[A\n",
      "103274it [00:02, 34986.81it/s]\u001b[A\n",
      "106875it [00:03, 35011.55it/s]\u001b[A\n",
      "110469it [00:03, 34982.36it/s]\u001b[A\n",
      "114009it [00:03, 34969.51it/s]\u001b[A\n",
      "117706it [00:03, 35030.48it/s]\u001b[A\n",
      "121352it [00:03, 35064.56it/s]\u001b[A\n",
      "124942it [00:03, 35061.62it/s]\u001b[A\n",
      "128503it [00:03, 34958.36it/s]\u001b[A\n",
      "131945it [00:03, 34914.62it/s]\u001b[A\n",
      "135355it [00:03, 34866.03it/s]\u001b[A\n",
      "138735it [00:03, 34824.07it/s]\u001b[A\n",
      "Exception in thread Thread-5:\n",
      "Traceback (most recent call last):\n",
      "  File \"/Users/masakitashiro/.pyenv/versions/anaconda3-5.0.1/lib/python3.6/threading.py\", line 916, in _bootstrap_inner\n",
      "    self.run()\n",
      "  File \"/Users/masakitashiro/.pyenv/versions/anaconda3-5.0.1/lib/python3.6/site-packages/tqdm/_tqdm.py\", line 144, in run\n",
      "    for instance in self.tqdm_cls._instances:\n",
      "  File \"/Users/masakitashiro/.pyenv/versions/anaconda3-5.0.1/lib/python3.6/_weakrefset.py\", line 60, in __iter__\n",
      "    for itemref in self.data:\n",
      "RuntimeError: Set changed size during iteration\n",
      "\n",
      "921337it [00:26, 35259.48it/s]\n"
     ]
    }
   ],
   "source": [
    "def nlp60(db):\n",
    "    with codecs.open(\"./artist.json\", \"r\", encoding=\"utf-8\") as f:\n",
    "        for i in tqdm(f):\n",
    "            data = json.loads(i)\n",
    "            db.put(data[\"name\"].encode(\"utf-8\"), data.get(\"area\",\"\").encode(\"utf-8\"))\n",
    "if __name__ == \"__main__\":\n",
    "    my_db = plyvel.DB(\"./name_area.ldb\", create_if_missing=True)\n",
    "    nlp60(my_db)\n",
    "    my_db.close()     "
   ]
  },
  {
   "cell_type": "code",
   "execution_count": 142,
   "metadata": {},
   "outputs": [],
   "source": [
    "my_db.close()"
   ]
  },
  {
   "cell_type": "code",
   "execution_count": 143,
   "metadata": {},
   "outputs": [
    {
     "name": "stdout",
     "output_type": "stream",
     "text": [
      "b'United States'\n"
     ]
    }
   ],
   "source": [
    "def nlp61(name, db):\n",
    "    return db.get(name.encode())\n",
    "\n",
    "if __name__ == \"__main__\":\n",
    "    my_db = plyvel.DB(\"./name_area.ldb\", create_if_missing=True)\n",
    "    print(nlp61(\"The Wanderers\", my_db))\n",
    "    my_db.close()"
   ]
  },
  {
   "cell_type": "code",
   "execution_count": 150,
   "metadata": {},
   "outputs": [
    {
     "name": "stdout",
     "output_type": "stream",
     "text": [
      "21946\n"
     ]
    }
   ],
   "source": [
    "def nlp62(value, db):\n",
    "    count = 0\n",
    "    for k, v in db.iterator():\n",
    "        if v == value.encode(\"utf-8\"):\n",
    "            count += 1\n",
    "    return count\n",
    "\n",
    "if __name__ == \"__main__\":\n",
    "    my_db = plyvel.DB(\"./name_area.ldb\", create_if_missing=True)\n",
    "    print(nlp62(\"Japan\", my_db))\n",
    "    my_db.close()"
   ]
  },
  {
   "cell_type": "code",
   "execution_count": 159,
   "metadata": {},
   "outputs": [
    {
     "name": "stdout",
     "output_type": "stream",
     "text": [
      "[{'count': 1, 'value': 'sillyname'}]\n"
     ]
    }
   ],
   "source": [
    "def nlp63(name, db, is_db_built=True):\n",
    "    if not is_db_built:\n",
    "        with codecs.open(\"./artist.json\", \"r\", encoding=\"utf-8\") as f:\n",
    "            for i in tqdm(f):\n",
    "                data = json.loads(i)\n",
    "                db.put(data[\"name\"].encode(\"utf-8\"), \n",
    "                       json.dumps(data.get(\"tags\",\"\")).encode(\"utf-8\"))\n",
    "        print(\"finished\")\n",
    "    return json.loads(db.get(name.encode()).decode())\n",
    "    \n",
    "if __name__ == \"__main__\":\n",
    "    my_db = plyvel.DB(\"./name_tags.ldb\", create_if_missing=True)\n",
    "    print(nlp63(\"WIK▲N\", my_db, is_db_built=True))\n",
    "    my_db.close()"
   ]
  },
  {
   "cell_type": "code",
   "execution_count": null,
   "metadata": {},
   "outputs": [],
   "source": [
    "def nlp64(db):\n",
    "    insert_data = []\n",
    "    collection = db.musician_field\n",
    "    with codecs.open(\"./artist.json\", \"r\", encoding=\"utf-8\") as f:\n",
    "            for i in tqdm(f):\n",
    "                data = json.loads(i)\n",
    "                \"\"\"\n",
    "                name = data.get(\"name\", \"\")\n",
    "                aliases_name = \"\" if data.get(\"aliases\") is None \\\n",
    "                                else data[\"aliases\"][\"name\"]\n",
    "                tag = \"\" if data.get(\"tags\") is None \\\n",
    "                                else data[\"tags\"][\"value\"]\n",
    "                rating = \"\" if data.get(\"rating\") is None \\\n",
    "                            else data[\"rating\"][\"value\"]\n",
    "                new_data = {u\"name\":name.encode(),\n",
    "                           u\"aliases_name\" : aliases_name.encode(),\n",
    "                           u\"tag\" : tag.encode(),\n",
    "                           u\"rating\" : rating.encode()}\n",
    "                \"\"\"\n",
    "                insert_data.append(data)\n",
    "    result = collection.insert_many(insert_data)\n",
    "    collection.create_index([('name', pymongo.ASCENDING)])  \n",
    "    collection.create_index([('aliases.name', pymongo.ASCENDING)])  \n",
    "    collection.create_index([('tags.value', pymongo.ASCENDING)])\n",
    "    collection.create_index([('rating.value', pymongo.ASCENDING)])\n",
    "    print(\"finised\")\n",
    "    \n",
    "if __name__ == \"__main__\":\n",
    "    client = MongoClient(\"localhost\",27017)\n",
    "    nlp64(client.nlp100)"
   ]
  },
  {
   "cell_type": "code",
   "execution_count": 171,
   "metadata": {
    "scrolled": true
   },
   "outputs": [
    {
     "name": "stdout",
     "output_type": "stream",
     "text": [
      "[{'_id': ObjectId('5b4c33708bb95b3389349e0d'), 'name': 'Queen', 'area': 'Japan', 'gender': 'Female', 'tags': [{'count': 1, 'value': 'kamen rider w'}, {'count': 1, 'value': 'related-akb48'}], 'sort_name': 'Queen', 'ended': True, 'gid': '420ca290-76c5-41af-999e-564d7c71f1a7', 'type': 'Character', 'id': 701492, 'aliases': [{'name': 'Queen', 'sort_name': 'Queen'}]}, {'_id': ObjectId('5b4c33718bb95b33893564b9'), 'rating': {'count': 24, 'value': 92}, 'begin': {'date': 27, 'month': 6, 'year': 1970}, 'name': 'Queen', 'area': 'United Kingdom', 'tags': [{'count': 2, 'value': 'hard rock'}, {'count': 1, 'value': '70s'}, {'count': 1, 'value': 'queen family'}, {'count': 1, 'value': '90s'}, {'count': 1, 'value': '80s'}, {'count': 1, 'value': 'glam rock'}, {'count': 4, 'value': 'british'}, {'count': 1, 'value': 'english'}, {'count': 2, 'value': 'uk'}, {'count': 1, 'value': 'pop/rock'}, {'count': 1, 'value': 'pop-rock'}, {'count': 1, 'value': 'britannique'}, {'count': 1, 'value': 'classic pop and rock'}, {'count': 1, 'value': 'queen'}, {'count': 1, 'value': 'united kingdom'}, {'count': 1, 'value': 'langham 1 studio bbc'}, {'count': 1, 'value': 'kind of magic'}, {'count': 1, 'value': 'band'}, {'count': 6, 'value': 'rock'}, {'count': 1, 'value': 'platinum'}], 'sort_name': 'Queen', 'ended': True, 'gid': '0383dadf-2a4e-4d10-a46a-e9e041da8eb3', 'type': 'Group', 'id': 192, 'aliases': [{'name': '女王', 'sort_name': '女王'}]}, {'_id': ObjectId('5b4c33718bb95b3389371f11'), 'ended': True, 'gid': '5eecaf18-02ec-47af-a4f2-7831db373419', 'sort_name': 'Queen', 'id': 992994, 'name': 'Queen'}, {'_id': ObjectId('5b4c33ae8bb95b338942ad07'), 'name': 'Queen', 'area': 'Japan', 'gender': 'Female', 'tags': [{'count': 1, 'value': 'kamen rider w'}, {'count': 1, 'value': 'related-akb48'}], 'sort_name': 'Queen', 'ended': True, 'gid': '420ca290-76c5-41af-999e-564d7c71f1a7', 'type': 'Character', 'id': 701492, 'aliases': [{'name': 'Queen', 'sort_name': 'Queen'}]}, {'_id': ObjectId('5b4c33b08bb95b33894373b3'), 'rating': {'count': 24, 'value': 92}, 'begin': {'date': 27, 'month': 6, 'year': 1970}, 'name': 'Queen', 'area': 'United Kingdom', 'tags': [{'count': 2, 'value': 'hard rock'}, {'count': 1, 'value': '70s'}, {'count': 1, 'value': 'queen family'}, {'count': 1, 'value': '90s'}, {'count': 1, 'value': '80s'}, {'count': 1, 'value': 'glam rock'}, {'count': 4, 'value': 'british'}, {'count': 1, 'value': 'english'}, {'count': 2, 'value': 'uk'}, {'count': 1, 'value': 'pop/rock'}, {'count': 1, 'value': 'pop-rock'}, {'count': 1, 'value': 'britannique'}, {'count': 1, 'value': 'classic pop and rock'}, {'count': 1, 'value': 'queen'}, {'count': 1, 'value': 'united kingdom'}, {'count': 1, 'value': 'langham 1 studio bbc'}, {'count': 1, 'value': 'kind of magic'}, {'count': 1, 'value': 'band'}, {'count': 6, 'value': 'rock'}, {'count': 1, 'value': 'platinum'}], 'sort_name': 'Queen', 'ended': True, 'gid': '0383dadf-2a4e-4d10-a46a-e9e041da8eb3', 'type': 'Group', 'id': 192, 'aliases': [{'name': '女王', 'sort_name': '女王'}]}, {'_id': ObjectId('5b4c33b08bb95b3389452e0b'), 'ended': True, 'gid': '5eecaf18-02ec-47af-a4f2-7831db373419', 'sort_name': 'Queen', 'id': 992994, 'name': 'Queen'}]\n"
     ]
    }
   ],
   "source": [
    "def nlp65(db):\n",
    "    queen_info = []\n",
    "    collection = db.musician_field\n",
    "    for queen in collection.find({\"name\":\"Queen\"}):\n",
    "        queen_info.append(queen)\n",
    "    return queen_info\n",
    "        \n",
    "if __name__ == \"__main__\":\n",
    "    client = MongoClient(\"localhost\",27017)\n",
    "    print(nlp65(client.nlp100))"
   ]
  },
  {
   "cell_type": "code",
   "execution_count": 180,
   "metadata": {},
   "outputs": [
    {
     "name": "stderr",
     "output_type": "stream",
     "text": [
      "2it [00:00, 844.26it/s]"
     ]
    },
    {
     "name": "stdout",
     "output_type": "stream",
     "text": [
      "['Queen']\n"
     ]
    },
    {
     "name": "stderr",
     "output_type": "stream",
     "text": [
      "\n"
     ]
    }
   ],
   "source": [
    "def nlp67(db, name):\n",
    "    result = []\n",
    "    collection = db.musician_field\n",
    "    for i in tqdm(collection.find({\"aliases.name\": name})):\n",
    "        result.append(i[\"name\"])\n",
    "    return list(set(result))\n",
    "\n",
    "if __name__ == \"__main__\":\n",
    "    client = MongoClient(\"localhost\",27017)\n",
    "    print(nlp67(client.nlp100, \"女王\"))"
   ]
  },
  {
   "cell_type": "code",
   "execution_count": 200,
   "metadata": {},
   "outputs": [
    {
     "name": "stdout",
     "output_type": "stream",
     "text": [
      "['Madonna', 'Björk', 'The Prodigy', 'Rihanna', 'Britney Spears', 'Maroon 5', 'Adam Lambert', 'Fatboy Slim', 'Basement Jaxx', 'Cornershop']\n"
     ]
    }
   ],
   "source": [
    "def nlp68(db, tag_name):\n",
    "    count = 0\n",
    "    result = []\n",
    "    collection = db.musician_field\n",
    "    for i, j in enumerate(\n",
    "        collection.find({\"tags.value\" : tag_name}).sort(\n",
    "            \"rating.count\",-1)):\n",
    "        if count >= 10:\n",
    "            break\n",
    "        if j[\"name\"] not in result:\n",
    "            result.append(j[\"name\"])\n",
    "            count += 1\n",
    "    return result\n",
    "\n",
    "if __name__ == \"__main__\":\n",
    "    client = MongoClient(\"localhost\",27017)\n",
    "    print(nlp68(client.nlp100, \"dance\"))"
   ]
  },
  {
   "cell_type": "code",
   "execution_count": 252,
   "metadata": {
    "collapsed": true
   },
   "outputs": [],
   "source": [
    "def search(db, name, aliases_name, tag):\n",
    "    result = []\n",
    "    count = 0\n",
    "    name_ls = []\n",
    "    collection = db.musician_field\n",
    "    search_indexes = [\"name\",\"aliases.name\",\"tags.value\"]\n",
    "    search_query = {i : j for i, j in zip(search_indexes, [name, aliases_name, tag])\n",
    "                   if len(j) > 0}\n",
    "    for value in collection.find(search_query).sort(\"rating.value\", -1):\n",
    "        if value.get(\"name\") in name_ls:\n",
    "            continue\n",
    "        name_ls.append(value.get(\"name\",\"\"))\n",
    "        result.append(\",\".join([value.get(\"name\",\"\"), value.get(\"area\", \"\"),\n",
    "                      value.get(\"gender\",\"\"), value.get(\"aliases.name\",\"\")]))\n",
    "        count += 1\n",
    "        if count == 9:\n",
    "            break\n",
    "    return result"
   ]
  },
  {
   "cell_type": "code",
   "execution_count": 258,
   "metadata": {},
   "outputs": [
    {
     "name": "stderr",
     "output_type": "stream",
     "text": [
      " * Running on http://127.0.0.1:5000/ (Press CTRL+C to quit)\n",
      "127.0.0.1 - - [17/Jul/2018 00:38:22] \"POST /post HTTP/1.1\" 200 -\n",
      "127.0.0.1 - - [17/Jul/2018 00:38:32] \"POST /post HTTP/1.1\" 200 -\n",
      "127.0.0.1 - - [17/Jul/2018 00:38:40] \"POST /post HTTP/1.1\" 200 -\n"
     ]
    }
   ],
   "source": [
    "def nlp69():\n",
    "    app = Flask(__name__)\n",
    "    @app.route(\"/\")\n",
    "    def index():\n",
    "        return render_template(\"index.html\")\n",
    "\n",
    "    @app.route('/post', methods=['GET', 'POST'])\n",
    "    def post():\n",
    "        if request.method == \"POST\":\n",
    "            name = request.form[\"name\"]\n",
    "            aliases_name = request.form[\"aliases_name\"]\n",
    "            tag = request.form[\"tag.value\"]\n",
    "            result = search(client.nlp100, name, aliases_name, tag)\n",
    "        return render_template(\"index.html\", result = result)\n",
    "    app.run()\n",
    "    \n",
    "if __name__ == \"__main__\":\n",
    "    nlp69()"
   ]
  },
  {
   "cell_type": "code",
   "execution_count": 253,
   "metadata": {
    "scrolled": true
   },
   "outputs": [
    {
     "data": {
      "text/plain": [
       "['Queen,United Kingdom,,']"
      ]
     },
     "execution_count": 253,
     "metadata": {},
     "output_type": "execute_result"
    }
   ],
   "source": [
    "search(client.nlp100, \"Queen\", \"\", \"hard rock\")"
   ]
  },
  {
   "cell_type": "code",
   "execution_count": null,
   "metadata": {
    "collapsed": true
   },
   "outputs": [],
   "source": []
  }
 ],
 "metadata": {
  "kernelspec": {
   "display_name": "Python 3",
   "language": "python",
   "name": "python3"
  },
  "language_info": {
   "codemirror_mode": {
    "name": "ipython",
    "version": 3
   },
   "file_extension": ".py",
   "mimetype": "text/x-python",
   "name": "python",
   "nbconvert_exporter": "python",
   "pygments_lexer": "ipython3",
   "version": "3.6.3"
  },
  "toc": {
   "nav_menu": {},
   "number_sections": true,
   "sideBar": true,
   "skip_h1_title": false,
   "toc_cell": false,
   "toc_position": {},
   "toc_section_display": "block",
   "toc_window_display": false
  }
 },
 "nbformat": 4,
 "nbformat_minor": 2
}
